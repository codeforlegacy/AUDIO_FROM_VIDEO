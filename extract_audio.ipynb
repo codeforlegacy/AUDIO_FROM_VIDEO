{
 "cells": [
  {
   "cell_type": "code",
   "execution_count": null,
   "id": "13dec2b9-4804-4e42-bde0-84160e4d8e5a",
   "metadata": {},
   "outputs": [],
   "source": [
    "import os\n",
    "from moviepy.editor import VideoFileClip\n",
    "\n",
    "def extract_audio_from_mp4(input_file_path, output_file_path):\n",
    "    # Check if the input file exists\n",
    "    if not os.path.exists(input_file_path):\n",
    "        print(f\"Input file {input_file_path} does not exist.\")  # Print a message indicating that the input file does not exist\n",
    "        return  # Exit the function\n",
    "    \n",
    "    try:\n",
    "        # Attempt to create a VideoFileClip object from the input file\n",
    "        clip = VideoFileClip(input_file_path)\n",
    "        # Write the audio from the clip to the output file\n",
    "        clip.audio.write_audiofile(output_file_path)\n",
    "        print(f\"Audio extracted successfully and saved as {output_file_path}\")  # Print a success message\n",
    "    except Exception as e:\n",
    "         # Print an error message if an exception occurs\n",
    "        print(f\"Error extracting audio: {str(e)}\") \n",
    "\n",
    "input_file_path = r\"C:\\Users\\being\\Downloads\\Scent of a Woman _ _I'll Show You Out of Order!_.mp4\"\n",
    "output_file_path = r\"output.wav\"\n",
    "extract_audio_from_mp4(input_file_path, output_file_path)"
   ]
  },
  {
   "cell_type": "code",
   "execution_count": null,
   "id": "8858b4a8-d5cb-41aa-9541-fcf41a91f6b4",
   "metadata": {},
   "outputs": [],
   "source": []
  }
 ],
 "metadata": {
  "kernelspec": {
   "display_name": "Python 3 (ipykernel)",
   "language": "python",
   "name": "python3"
  },
  "language_info": {
   "codemirror_mode": {
    "name": "ipython",
    "version": 3
   },
   "file_extension": ".py",
   "mimetype": "text/x-python",
   "name": "python",
   "nbconvert_exporter": "python",
   "pygments_lexer": "ipython3",
   "version": "3.11.7"
  }
 },
 "nbformat": 4,
 "nbformat_minor": 5
}
